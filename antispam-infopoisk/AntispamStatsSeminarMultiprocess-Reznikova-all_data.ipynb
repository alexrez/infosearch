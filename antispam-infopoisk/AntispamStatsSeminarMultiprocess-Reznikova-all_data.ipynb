{
 "cells": [
  {
   "cell_type": "markdown",
   "metadata": {},
   "source": [
    "# ** Описание **"
   ]
  },
  {
   "cell_type": "raw",
   "metadata": {},
   "source": [
    "Построить графики распределения в спам и не спам множествах следующих признаков:\n",
    "\n",
    "1\tКоличество слов на странице\n",
    "2\tСредняя длинна слова\n",
    "3\tКоличество слов в заголовке страниц (слова в теге <html><head><title> Some text </title>)\n",
    "4\tКоличество слов в анкорах ссылок (<html><body><a> Some text </a>)\n",
    "5\tКоэффициент сжатия\n",
    "\n",
    "Нужно посчитать статистику минимум по трем признакам и обязательно сделать для 1-го и 2-го признаков\n",
    "\n",
    "И отправить первое решение в соревнование https://kaggle.com/join/antispam_infopoisk\n",
    "На основании одного из указанных выше признаков попытаться разделить мн-во, так чтобы score в соревновании был больше 0.55\n",
    "\n",
    "При выполнении всех этих условия в течении семинара +1 балл к ДЗ\n",
    "\n",
    "Описание ДЗ и правил выставления за него баллов в https://inclass.kaggle.com/c/antispam-infopoisk  \n",
    "Сроки ДЗ уточнить у преподователя - обычно 2 недели"
   ]
  },
  {
   "cell_type": "code",
   "execution_count": 23,
   "metadata": {},
   "outputs": [],
   "source": [
    "from __future__ import division\n",
    "from __future__ import unicode_literals\n",
    "\n",
    "import base64\n",
    "import csv\n",
    "import gzip\n",
    "import zlib\n",
    "import pymorphy2\n",
    "import nltk\n",
    "import string\n",
    "from nltk.corpus import stopwords\n",
    "\n",
    "import numpy as np\n",
    "import pandas as pd\n",
    "from sklearn.feature_extraction.text import TfidfVectorizer\n",
    "\n",
    "from collections import namedtuple\n",
    "from collections import defaultdict\n",
    "\n",
    "from math import log\n",
    "from math import exp\n",
    "\n",
    "%matplotlib inline\n",
    "import matplotlib.pyplot as plt"
   ]
  },
  {
   "cell_type": "code",
   "execution_count": 24,
   "metadata": {},
   "outputs": [],
   "source": [
    "TRACE_NUM = 1000\n",
    "import logging\n",
    "reload(logging)\n",
    "logging.basicConfig(format='%(asctime)s %(levelname)s:%(message)s', level=logging.INFO, datefmt='%H:%M:%S')\n",
    "\n",
    "def trace(items_num, trace_num=TRACE_NUM):\n",
    "    if items_num % trace_num == 0: logging.info(\"Complete items %05d\" % items_num)\n",
    "        \n",
    "def trace_worker(items_num, worker_id, trace_num=TRACE_NUM):\n",
    "    if items_num % trace_num == 0: logging.info(\"Complete items %05d in worker_id %d\" % (items_num, worker_id))"
   ]
  },
  {
   "cell_type": "markdown",
   "metadata": {},
   "source": [
    "### Утилиты"
   ]
  },
  {
   "cell_type": "markdown",
   "metadata": {},
   "source": [
    "#### Декораторы"
   ]
  },
  {
   "cell_type": "code",
   "execution_count": 25,
   "metadata": {},
   "outputs": [],
   "source": [
    "def to_utf8(text):\n",
    "    if isinstance(text, unicode): text = text.encode('utf8')\n",
    "    return text\n",
    "\n",
    "def convert2unicode(f):\n",
    "    def tmp(text):\n",
    "        if not isinstance(text, unicode): text = text.decode('utf8')\n",
    "        return f(text)\n",
    "    return tmp\n",
    "\n",
    "def convert2lower(f):\n",
    "    def tmp(text):        \n",
    "        return f(text.lower())\n",
    "    return tmp\n",
    "\n",
    "P.S. Декораторы могут усложнять отладку, так что от них вполне можно отказаться и воспользоваться copy-paste"
   ]
  },
  {
   "cell_type": "markdown",
   "metadata": {},
   "source": [
    "### Извлечение текста из html"
   ]
  },
  {
   "cell_type": "markdown",
   "metadata": {},
   "source": [
    "#### Извлечение текста при помощи встроенных модулей"
   ]
  },
  {
   "cell_type": "code",
   "execution_count": 26,
   "metadata": {},
   "outputs": [],
   "source": [
    "from HTMLParser import HTMLParser\n",
    "import re\n",
    "\n",
    "###Извлечение текста из title можно вписать сюда\n",
    "\n",
    "class TextHTMLParser(HTMLParser):\n",
    "    def __init__(self):\n",
    "        HTMLParser.__init__(self)\n",
    "        self._text = []\n",
    "        self._title = []\n",
    "        self._anchor = []\n",
    "        self._in_title = False\n",
    "        self._in_anchor = False\n",
    "\n",
    "    def handle_data(self, data):\n",
    "        text = data.strip()\n",
    "        if len(text) > 0:\n",
    "            text = re.sub('[ \\t\\r\\n]+', ' ', text)\n",
    "            if self._in_title == True:\n",
    "                self._title.append(text + ' ')\n",
    "                self._in_title = False\n",
    "            elif self._in_anchor == True:\n",
    "                self._anchor.append(text + ' ')\n",
    "                self._in_anchor = False\n",
    "            else:\n",
    "                self._text.append(text + ' ')\n",
    "\n",
    "    def handle_starttag(self, tag, attrs):\n",
    "        if tag == 'p':\n",
    "            self._text.append('\\n\\n')\n",
    "        elif tag == 'br':\n",
    "            self._text.append('\\n')\n",
    "        elif tag == 'title':\n",
    "            self._in_title = True\n",
    "        elif tag == 'a':\n",
    "            self._in_anchor = True\n",
    "\n",
    "    def handle_startendtag(self, tag, attrs):\n",
    "        if tag == 'br':\n",
    "            self._text.append('\\n\\n')\n",
    "\n",
    "    def text(self):\n",
    "        return ''.join(self._text).strip()\n",
    "    \n",
    "    def title(self):\n",
    "        return ''.join(self._title).strip()\n",
    "    \n",
    "    def anchor(self):\n",
    "        return ''.join(self._anchor).strip()\n",
    "\n",
    "@convert2unicode\n",
    "# @to_utf8\n",
    "def html2text_parser(text):\n",
    "    parser = TextHTMLParser()\n",
    "    parser.feed(text)\n",
    "    data = []\n",
    "    data.append(parser.text().encode('utf8'))\n",
    "    data.append(parser.title().encode('utf8'))\n",
    "    data.append(parser.anchor().encode('utf8'))\n",
    "    return data"
   ]
  },
  {
   "cell_type": "markdown",
   "metadata": {},
   "source": [
    "#### Извлечение текста при помощи дополнительных библиотек"
   ]
  },
  {
   "cell_type": "code",
   "execution_count": 27,
   "metadata": {},
   "outputs": [],
   "source": [
    "def html2text_bs(raw_html):\n",
    "    from bs4 import BeautifulSoup\n",
    "    \"\"\"\n",
    "    Тут производится извлечения из html текста\n",
    "    \"\"\"\n",
    "    soup = BeautifulSoup(raw_html, \"html.parser\")\n",
    "    [s.extract() for s in soup(['script', 'style'])]\n",
    "    return soup.get_text()\n",
    "\n",
    "def html2text_bs_visible(raw_html):\n",
    "    from bs4 import BeautifulSoup\n",
    "    \"\"\"\n",
    "    Тут производится извлечения из html текста, который видим пользователю\n",
    "    \"\"\"\n",
    "    soup = BeautifulSoup(raw_html, \"html.parser\")    \n",
    "    [s.extract() for s in soup(['style', 'script', '[document]', 'head', 'title'])]\n",
    "    return soup.get_text()\n",
    "\n",
    "def html2text_boilerpipe(raw_html):\n",
    "    import boilerpipe\n",
    "    \"\"\"\n",
    "    еще одна библиотека очень хорошо извлекающая именно видимый пользователю текст,\n",
    "    но она завязана на java\n",
    "    \"\"\"\n",
    "    pass"
   ]
  },
  {
   "cell_type": "markdown",
   "metadata": {},
   "source": [
    "#### Выбираем какой метод для конвертации html в текст будет основным"
   ]
  },
  {
   "cell_type": "code",
   "execution_count": 28,
   "metadata": {},
   "outputs": [],
   "source": [
    "#html2text = html2text_bs\n",
    "html2text = html2text_parser"
   ]
  },
  {
   "cell_type": "markdown",
   "metadata": {},
   "source": [
    "#### Методы для токенизации текста"
   ]
  },
  {
   "cell_type": "code",
   "execution_count": 29,
   "metadata": {},
   "outputs": [
    {
     "name": "stderr",
     "output_type": "stream",
     "text": [
      "[nltk_data] Downloading package stopwords to\n",
      "[nltk_data]     /Users/Alex_Reznikova/nltk_data...\n",
      "[nltk_data]   Package stopwords is already up-to-date!\n",
      "[nltk_data] Downloading package punkt to\n",
      "[nltk_data]     /Users/Alex_Reznikova/nltk_data...\n",
      "[nltk_data]   Package punkt is already up-to-date!\n"
     ]
    }
   ],
   "source": [
    "@convert2lower\n",
    "@convert2unicode\n",
    "def easy_tokenizer(text):\n",
    "    word = unicode()\n",
    "    for symbol in text:\n",
    "        if symbol.isalnum(): word += symbol\n",
    "        elif word:\n",
    "            yield word\n",
    "            word = unicode()\n",
    "    if word: yield word\n",
    "\n",
    "PYMORPHY_CACHE = {}\n",
    "MORPH = None\n",
    "nltk.download('stopwords')\n",
    "nltk.download('punkt')\n",
    "#hint, чтобы установка pymorphy2 не была бы обязательной\n",
    "def get_lemmatizer():\n",
    "    global MORPH\n",
    "    if MORPH is None: MORPH = pymorphy2.MorphAnalyzer()\n",
    "    return MORPH\n",
    "\n",
    "def tokenize_me(file_text):\n",
    "    #firstly let's apply nltk tokenization\n",
    "    tokens = nltk.word_tokenize(file_text)\n",
    "     \n",
    "    #cleaning words\n",
    "    tokens = [i.replace(\"«\", \"\").replace(\"»\", \"\") for i in tokens]\n",
    "    tokens = [i for i in tokens if (not i.encode('utf-8').isdigit())]\n",
    " \n",
    "    #let's delete punctuation symbols\n",
    "    tokens = [i for i in tokens if ( i not in string.punctuation )]\n",
    " \n",
    "    #deleting stop_words\n",
    "    stop_words = stopwords.words(\"russian\")\n",
    "    stop_words.extend([\"что\", \"это\", \"так\", \"вот\", \"быть\", \"как\", \"в\", \"—\", \"к\", \"на\"])\n",
    "    tokens = [i for i in tokens if ( i not in stop_words )]\n",
    "    stop_words = stopwords.words(\"english\")\n",
    "    stop_words.extend([\"login\", \"form\", \"menu\", \"js\", \"fn\", \"csript\", \"topic\", \"l\", \"r\"])\n",
    "    tokens = [i for i in tokens if ( i not in stop_words )]\n",
    "\n",
    "\n",
    "    #stemming words\n",
    "    stemmer = nltk.stem.SnowballStemmer(\"russian\")\n",
    "    tokens = [stemmer.stem(i) for i in tokens]\n",
    "    stemmer = nltk.stem.SnowballStemmer(\"english\")\n",
    "    tokens = [stemmer.stem(i) for i in tokens]\n",
    " \n",
    "    return tokens\n",
    "\n",
    "@convert2lower\n",
    "@convert2unicode\n",
    "def pymorphy_tokenizer(text):\n",
    "    global PYMORPHY_CACHE\n",
    "\n",
    "    tokenized = tokenize_me(text)\n",
    "    for word in tokenized:\n",
    "        word_hash = hash(word)\n",
    "        if word_hash not in PYMORPHY_CACHE:\n",
    "            PYMORPHY_CACHE[word_hash] = get_lemmatizer().parse(word)[0].normal_form            \n",
    "        yield PYMORPHY_CACHE[word_hash]"
   ]
  },
  {
   "cell_type": "markdown",
   "metadata": {},
   "source": [
    "#### Основная функция, которая вызывается для преобразования html в список слов"
   ]
  },
  {
   "cell_type": "code",
   "execution_count": 30,
   "metadata": {},
   "outputs": [],
   "source": [
    "def html2word(raw_html, to_text=html2text, tokenizer=pymorphy_tokenizer):\n",
    "    return tokenizer(to_text(raw_html)[0].lower()), tokenizer(to_text(raw_html)[1].lower()), tokenizer(to_text(raw_html)[2].lower())"
   ]
  },
  {
   "cell_type": "markdown",
   "metadata": {},
   "source": [
    "#### Рассчет финальных метрик"
   ]
  },
  {
   "cell_type": "code",
   "execution_count": 31,
   "metadata": {},
   "outputs": [],
   "source": [
    "def safe_divide(a, b):\n",
    "    if a == 0: return 0.0\n",
    "    elif b == 0: return 0.0\n",
    "    else: return a/b\n",
    "\n",
    "def calculate_metrics(predictions, threshold):    \n",
    "    \"\"\"\n",
    "    Функция подсчета метрик\n",
    "    Параметры\n",
    "    predictions - ранки по документам\n",
    "    threshold  - порог для метрик\n",
    "    \"\"\"\n",
    "    true_positive = 0\n",
    "    false_positive = 0\n",
    "    true_negative = 0\n",
    "    false_negative = 0\n",
    "    for (url_id, mark, url, prediction) in predictions:        \n",
    "        mark_predict = prediction > threshold\n",
    "\n",
    "        if mark_predict:                     \n",
    "            if mark_predict == mark: true_positive += 1\n",
    "            else: false_positive += 1                    \n",
    "        else:                     \n",
    "            if  mark_predict == mark: true_negative += 1\n",
    "            else: false_negative += 1\n",
    "\n",
    "    class_prec  = safe_divide(true_positive, true_positive + false_positive)\n",
    "    class_recall = safe_divide(true_positive, true_positive + false_negative)\n",
    "        \n",
    "    class_F1 = safe_divide(2 * class_prec * class_recall, class_prec + class_recall)\n",
    "    \n",
    "    \n",
    "    not_class_prec = safe_divide(true_negative, true_negative + false_negative)\n",
    "    not_class_recall = safe_divide(true_negative, true_negative + false_positive)\n",
    "    \n",
    "    not_class_F1 = safe_divide(2 * not_class_prec * not_class_recall, not_class_prec + not_class_recall)\n",
    "    \n",
    "    return ( (class_prec, class_recall, class_F1), (not_class_prec, not_class_recall, not_class_F1) )\n",
    "\n",
    "def arange(start, stop, step):\n",
    "    cur_value = start\n",
    "    while True:\n",
    "        if cur_value > stop: break\n",
    "        yield cur_value\n",
    "        cur_value += step\n",
    "\n",
    "def plot_results(docs, min_threshold=-1, max_threshold=1, step=0.1, trace=False):\n",
    "    x = []\n",
    "    y_p = []\n",
    "    y_n = []\n",
    "    docs_predictions = classifier.predict_all(docs)\n",
    "    for threshold in arange(min_threshold, max_threshold, step):\n",
    "        r = calculate_metrics(docs_predictions, threshold)\n",
    "        x.append(threshold)\n",
    "        y_p.append(r[0])\n",
    "        y_n.append(r[1])        \n",
    "        if trace: \n",
    "            print 'threshold %s' % threshold\n",
    "            print '\\tclass_prec %s, class_recall %s, class_F1 %s' % r[0]\n",
    "            print '\\tnot_class_prec %s, not_class_recall %s, not_class_F1 %s' % r[1]\n",
    "            print '\\t\\tMacroF1Mesure %s' % ((r[0][2] + r[1][2])/2)\n",
    "    plot_stats(x, y_p, \"Class Result\")\n",
    "    plot_stats(x, y_n, \"Not class Result\")    \n",
    "\n",
    "\n",
    "def plot_stats(x, y, title):\n",
    "    plt.figure(figsize=(10, 5))\n",
    "\n",
    "    prec, = plt.plot( x, \n",
    "                     [k[0] for k in y], \"r\", label='Precision', \n",
    "                     linewidth=1)\n",
    "    accur, = plt.plot( x, \n",
    "                      [k[1] for k in y], \"b\", label='Recall',\n",
    "                      linewidth=1)\n",
    "    f1, =    plt.plot( x, \n",
    "                      [k[2] for k in y], \"g\", label='F1',\n",
    "                      linewidth=1)\n",
    "    plt.grid(True)\n",
    "    plt.legend(handles=[prec, accur, f1])\n",
    "    plt.title(title)\n",
    "    plt.show()"
   ]
  },
  {
   "cell_type": "code",
   "execution_count": 32,
   "metadata": {},
   "outputs": [],
   "source": [
    "def calc_features(url, html_data):\n",
    "    freq_ = {}\n",
    "    data = html2word(html_data)\n",
    "#     data_raw = html2word(html_data, tokenizer=easy)\n",
    "    words = list(data[0])\n",
    "    words_enc = \" \".join(words).encode('utf-8')\n",
    "    words_num = len(words)\n",
    "    \n",
    "    titles = list(data[1])\n",
    "    titles_enc = \" \".join(titles).encode('utf-8')\n",
    "    title_words_num = len(titles)\n",
    "    \n",
    "    anchors = list(data[2])\n",
    "    anchors_enc = \" \".join(anchors).encode('utf-8')\n",
    "    anchor_words_num = len(anchors)\n",
    "    \n",
    "    all_words_num = words_num + title_words_num + anchor_words_num\n",
    "    \n",
    "    if words_num != 0:\n",
    "        vect = TfidfVectorizer()\n",
    "        tfidf_matrix = vect.fit_transform([words_enc, titles_enc, anchors_enc])\n",
    "        df = pd.DataFrame(tfidf_matrix.toarray(), columns = vect.get_feature_names())\n",
    "        voc = np.array(df.mean(axis=0).sort_values(ascending=False).index)\n",
    "#         voc = np.array(df.mean(axis=0).sort_values(ascending=False)[:15].index)\n",
    "        weights = np.array(df.mean(axis=0).sort_values(ascending=False)[:15].values)\n",
    "        tf_html_feat = np.zeros(voc.shape[0])\n",
    "\n",
    "        doc = words + titles + anchors\n",
    "        for j, word in enumerate(voc):\n",
    "            wc = doc.count(word)\n",
    "            if wc == 0:\n",
    "                wc = 1\n",
    "            tf_html_feat[j] = wc\n",
    "            freq_[word] = wc\n",
    "\n",
    "        temp = tf_html_feat[:15] * weights\n",
    "        tf_html_feat_m = temp.sum()\n",
    "        compression_level_w = len(zlib.compress(html_data)) / len(html_data)\n",
    "        avg_word_len = sum([len(w) for w in words]) / words_num\n",
    "    else:\n",
    "        compression_level_w = 0\n",
    "        tf_html_feat_m = 0\n",
    "        avg_word_len = 0\n",
    "    \n",
    "    if anchor_words_num != 0:\n",
    "        vect = TfidfVectorizer()\n",
    "        tfidf_matrix = vect.fit_transform([anchors_enc])\n",
    "        df = pd.DataFrame(tfidf_matrix.toarray(), columns = vect.get_feature_names())\n",
    "        voc = np.array(df.mean(axis=0).sort_values(ascending=False)[:anchor_words_num].index)\n",
    "        weights = np.array(df.mean(axis=0).sort_values(ascending=False)[:10].values)\n",
    "        tf_feat = np.zeros(weights.shape[0])\n",
    "\n",
    "        doc = words + titles\n",
    "        for j, anchor in enumerate(voc[:10]):\n",
    "            ac = doc.count(anchor)\n",
    "            if ac == 0:\n",
    "                ac = 1\n",
    "            tf_feat[j] = ac\n",
    "        \n",
    "        temp = tf_feat * weights\n",
    "        tf_feat_m = temp.sum()\n",
    "        tf_diff = voc.shape[0] / anchor_words_num\n",
    "\n",
    "    else:\n",
    "        tf_feat_m = 0\n",
    "        tf_diff = 0\n",
    "\n",
    "    return [words_num, avg_word_len, title_words_num,\n",
    "            anchor_words_num, compression_level_w,\n",
    "            all_words_num, tf_html_feat_m, tf_feat_m, tf_diff,\n",
    "            freq_]"
   ]
  },
  {
   "cell_type": "code",
   "execution_count": 33,
   "metadata": {},
   "outputs": [],
   "source": [
    "test_html_data = u'''\n",
    "<html>\n",
    "<title> Заголовок что Заголовка Ololo1 </title>\n",
    "ololo спам спама 1 2 3 ololo running_bad\n",
    "<a> lala ololo ololo 111 qqqqq</a>\n",
    "</html>\n",
    "'''\n",
    "#Заголовок\n",
    "#спам\n",
    "test_url = 'http://ololo'\n",
    "test_features = calc_features(test_url, test_html_data)\n",
    "print test_features\n",
    "# print freq"
   ]
  },
  {
   "cell_type": "code",
   "execution_count": 34,
   "metadata": {},
   "outputs": [],
   "source": [
    "from multiprocessing import Process, Queue\n",
    "\n",
    "DocItem = namedtuple('DocItem', ['doc_id', 'is_spam', 'url', 'features'])\n",
    "\n",
    "WORKER_NUM = 4\n",
    "\n",
    "def load_csv(input_file_name, calc_features_f):    \n",
    "    \"\"\"\n",
    "    Загружаем данные и извлекаем на лету признаки\n",
    "    Сам контент не сохраняется, чтобы уменьшить потребление памяти - чтобы\n",
    "    можно было запускать даже на ноутбуках в классе\n",
    "    \"\"\"\n",
    "    \n",
    "    with gzip.open(input_file_name) if input_file_name.endswith('gz') else open(input_file_name)  as input_file:            \n",
    "        headers = input_file.readline()\n",
    "        \n",
    "        for i, line in enumerate(input_file):\n",
    "            trace(i)\n",
    "            parts = line.strip().split('\\t')\n",
    "            url_id = int(parts[0])                                        \n",
    "            mark = bool(int(parts[1]))                    \n",
    "            url = parts[2]\n",
    "            pageInb64 = parts[3]\n",
    "            html_data = base64.b64decode(pageInb64)\n",
    "            features = calc_features_f(url, html_data)            \n",
    "            yield DocItem(url_id, mark, url, features)            \n",
    "                \n",
    "        trace(i, 1)  \n",
    "        \n",
    "def load_csv_worker(input_file_name, calc_features_f, worker_id, res_queue):\n",
    "    \n",
    "    with gzip.open(input_file_name) if input_file_name.endswith('gz') else open(input_file_name)  as input_file:            \n",
    "        headers = input_file.readline()\n",
    "        \n",
    "        for i, line in enumerate(input_file):\n",
    "            trace_worker(i, worker_id)\n",
    "            if i % WORKER_NUM != worker_id: continue\n",
    "            parts = line.strip().split('\\t')\n",
    "            url_id = int(parts[0])                                        \n",
    "            mark = bool(int(parts[1]))                    \n",
    "            url = parts[2]\n",
    "            pageInb64 = parts[3]\n",
    "            html_data = base64.b64decode(pageInb64)\n",
    "            features = calc_features_f(url, html_data)            \n",
    "            res_queue.put(DocItem(url_id, mark, url, features))\n",
    "                \n",
    "        trace_worker(i, worker_id, 1)  \n",
    "    res_queue.put(None)\n",
    "        \n",
    "def load_csv_multiprocess(input_file_name, calc_features_f):\n",
    "    processes = []\n",
    "    res_queue = Queue()    \n",
    "    for i in xrange(WORKER_NUM):\n",
    "        process = Process(target=load_csv_worker, args=(input_file_name, calc_features_f, i, res_queue))\n",
    "        processes.append(process)\n",
    "        process.start()\n",
    "    \n",
    "    complete_workers = 0\n",
    "    while complete_workers != WORKER_NUM:\n",
    "        item = res_queue.get()\n",
    "        if item is None:\n",
    "            complete_workers += 1\n",
    "        else:\n",
    "            yield item\n",
    "        \n",
    "    for process in processes: process.join()"
   ]
  },
  {
   "cell_type": "markdown",
   "metadata": {},
   "source": [
    "** Обрабатываем входной файл **\n",
    "<br>\n",
    "Формат - поля разделенные табуляциями\n",
    "<br>\n",
    "0 - идентификатор документа\n",
    "<br>\n",
    "1 - метка класса 0 - не спам, 1 - спам\n",
    "<br>\n",
    "2 - урл документа\n",
    "<br>\n",
    "3 - документ в кодировке base64\n",
    "\n",
    "Выходной формат - массив кортежей вида\n",
    "(doc_id, is_spam, url, html_data)"
   ]
  },
  {
   "cell_type": "code",
   "execution_count": 35,
   "metadata": {
    "scrolled": false
   },
   "outputs": [
    {
     "name": "stderr",
     "output_type": "stream",
     "text": [
      "10:50:02 INFO:Complete items 00000 in worker_id 1\n",
      "10:50:02 INFO:Complete items 00000 in worker_id 0\n",
      "10:50:02 INFO:Complete items 00000 in worker_id 2\n",
      "10:50:02 INFO:Complete items 00000 in worker_id 3\n",
      "10:56:43 INFO:Complete items 01000 in worker_id 1\n",
      "10:58:04 INFO:Complete items 01000 in worker_id 3\n",
      "10:58:22 INFO:Complete items 01000 in worker_id 2\n",
      "10:59:04 INFO:Complete items 01000 in worker_id 0\n",
      "11:01:59 INFO:Complete items 02000 in worker_id 1\n",
      "11:02:19 INFO:Complete items 02000 in worker_id 3\n",
      "11:03:09 INFO:Complete items 02000 in worker_id 0\n",
      "11:03:33 INFO:Complete items 02000 in worker_id 2\n",
      "11:06:05 INFO:Complete items 03000 in worker_id 1\n",
      "11:06:59 INFO:Complete items 03000 in worker_id 3\n",
      "11:07:10 INFO:Complete items 03000 in worker_id 0\n",
      "11:11:58 INFO:Complete items 04000 in worker_id 1\n",
      "11:12:06 INFO:Complete items 03000 in worker_id 2\n",
      "11:12:11 INFO:Complete items 04000 in worker_id 3\n",
      "11:13:27 INFO:Complete items 04000 in worker_id 0\n",
      "11:17:29 INFO:Complete items 04000 in worker_id 2\n",
      "11:17:48 INFO:Complete items 05000 in worker_id 0\n",
      "11:19:53 INFO:Complete items 05000 in worker_id 1\n",
      "11:20:01 INFO:Complete items 05000 in worker_id 3\n",
      "11:21:19 INFO:Complete items 06000 in worker_id 0\n",
      "11:23:23 INFO:Complete items 06000 in worker_id 3\n",
      "11:23:58 INFO:Complete items 05000 in worker_id 2\n",
      "11:25:09 INFO:Complete items 07000 in worker_id 0\n",
      "11:25:15 INFO:Complete items 07043 in worker_id 0\n",
      "11:25:31 INFO:Complete items 06000 in worker_id 1\n",
      "11:26:42 INFO:Complete items 06000 in worker_id 2\n",
      "11:30:37 INFO:Complete items 07000 in worker_id 2\n",
      "11:30:43 INFO:Complete items 07043 in worker_id 2\n",
      "11:32:46 INFO:Complete items 07000 in worker_id 1\n",
      "11:32:50 INFO:Complete items 07043 in worker_id 1\n",
      "11:33:42 INFO:Complete items 07000 in worker_id 3\n",
      "11:33:49 INFO:Complete items 07043 in worker_id 3\n"
     ]
    },
    {
     "name": "stdout",
     "output_type": "stream",
     "text": [
      "CPU times: user 4.27 s, sys: 926 ms, total: 5.2 s\n",
      "Wall time: 43min 47s\n"
     ]
    }
   ],
   "source": [
    "%%time\n",
    "\n",
    "TRAIN_DATA_FILE  = 'kaggle_train_data_tab.csv.gz'\n",
    "# TRAIN_DATA_FILE  = 'kaggle/kaggle_train_data_tab_300.csv.gz'\n",
    "\n",
    "train_docs = list(load_csv_multiprocess(TRAIN_DATA_FILE, calc_features))"
   ]
  },
  {
   "cell_type": "code",
   "execution_count": 36,
   "metadata": {},
   "outputs": [],
   "source": [
    "# with open('train_features_new_tf_new_nb_20191025.csv' , 'w') as fout:\n",
    "#     writer = csv.writer(fout, delimiter=str('\\t'))\n",
    "#     writer.writerow(['id', 'target', 'url', 'F_words_num', 'F_avg_word_len',\n",
    "#                      'F_title_words_num', 'F_anchor_words_num',\n",
    "#                      'F_compression_level_w', 'F_all_words_num',\n",
    "#                      'F_tf_html_feat_m', 'F_tf_feat_m', 'F_tf_diff'])\n",
    "#     for item in train_docs:\n",
    "#         writer.writerow([item[0], item[1], item[2],\n",
    "#                          item.features[0], item.features[1],\n",
    "#                          item.features[2], item.features[3],\n",
    "#                          item.features[4], item.features[5],\n",
    "#                          item.features[6], item.features[7],\n",
    "#                          item.features[8]])"
   ]
  },
  {
   "cell_type": "code",
   "execution_count": null,
   "metadata": {},
   "outputs": [],
   "source": [
    "# print train_docs[:2]"
   ]
  },
  {
   "cell_type": "code",
   "execution_count": 84,
   "metadata": {},
   "outputs": [],
   "source": [
    "# DocItem = namedtuple('DocItem', ['doc_id', 'is_spam', 'url', 'features'])\n",
    "\n",
    "# with open('train_features_new_tf_new_nb_20191025.csv', 'r') as input_file:\n",
    "#     headers = input_file.readline()\n",
    "#     train_docs = []\n",
    "\n",
    "#     for i, line in enumerate(input_file):\n",
    "#         parts = line.strip().split('\\t')\n",
    "#         url_id = int(parts[0])\n",
    "#         if parts[1] == 'True':\n",
    "#             mark = True\n",
    "#         else:\n",
    "#             mark = False\n",
    "#         url = parts[2]\n",
    "#         words_num = int(parts[3])\n",
    "#         avg_word_len = float(parts[4])\n",
    "#         title_words_num = int(parts[5])\n",
    "#         anchor_words_num = int(parts[6])\n",
    "#         compression_level_w = float(parts[7])\n",
    "#         all_words_num = int(parts[8])\n",
    "#         tf_html_feat_m = float(parts[9])\n",
    "#         tf_feat_m = float(parts[10])\n",
    "#         tf_diff = float(parts[11])\n",
    "#         features = [words_num, avg_word_len, title_words_num, anchor_words_num,\n",
    "#                     compression_level_w, all_words_num, tf_html_feat_m, tf_feat_m,\n",
    "#                     tf_diff]\n",
    "         \n",
    "#         train_docs.append(DocItem(url_id, mark, url, features))"
   ]
  },
  {
   "cell_type": "code",
   "execution_count": 85,
   "metadata": {},
   "outputs": [
    {
     "name": "stdout",
     "output_type": "stream",
     "text": [
      "[DocItem(doc_id=-9221399504663603656, is_spam=False, url=u'http://alterhost.ruwww.alterhost.ruwww.user.kz.ru/', features=[507, 7.447731755424063, 1, 153, 0.2559094551282051, 661, 5.224307340676161, 0.6131393394849658, 1.16793893129771]), DocItem(doc_id=-9218561774155397294, is_spam=False, url=u'http://fshops.otzyv.ru/read.php?id=277', features=[726, 5.881542699724518, 3, 105, 0.2344726203601617, 834, 7.673428359919555, 0.52, 1.4])]\n"
     ]
    }
   ],
   "source": [
    "# print train_docs[:2]"
   ]
  },
  {
   "cell_type": "code",
   "execution_count": 38,
   "metadata": {},
   "outputs": [
    {
     "data": {
      "text/plain": [
       "7044"
      ]
     },
     "execution_count": 38,
     "metadata": {},
     "output_type": "execute_result"
    }
   ],
   "source": [
    "len(train_docs)"
   ]
  },
  {
   "cell_type": "code",
   "execution_count": 39,
   "metadata": {},
   "outputs": [],
   "source": [
    "# return [0 - words_num, 1 - avg_word_len, 2 - title_words_num,\n",
    "#         3 - anchor_words_num, 4 - compression_level_w,\n",
    "#         5 - all_words_num, 6 - tf_html_feat_m, 7 - tf_feat_m,\n",
    "#         8 - tf_diff]"
   ]
  },
  {
   "cell_type": "code",
   "execution_count": 40,
   "metadata": {},
   "outputs": [
    {
     "name": "stderr",
     "output_type": "stream",
     "text": [
      "/Users/Alex_Reznikova/anaconda3/envs/anti/lib/python2.7/site-packages/matplotlib/axes/_axes.py:6571: UserWarning: The 'normed' kwarg is deprecated, and has been replaced by the 'density' kwarg.\n",
      "  warnings.warn(\"The 'normed' kwarg is deprecated, and has been \"\n"
     ]
    },
    {
     "data": {
      "image/png": "[encoded data removed]",
      "text/plain": [
       "<Figure size 432x288 with 1 Axes>"
      ]
     },
     "metadata": {
      "needs_background": "light"
     },
     "output_type": "display_data"
    }
   ],
   "source": [
    "is_spam_data = [doc.features[5] for doc in train_docs if doc[1] == True]\n",
    "not_spam_data = [doc.features[5] for doc in train_docs if doc[1] == False]\n",
    "bins = range(0,3000,10)\n",
    "plt.hist(is_spam_data, bins=bins, color='red', normed=True, alpha=0.7, label='spam')\n",
    "plt.hist(not_spam_data, bins=bins, color='blue', normed=True, alpha=0.7, label='not_spam')\n",
    "plt.title('NumWords')\n",
    "plt.legend()\n",
    "plt.show()"
   ]
  },
  {
   "cell_type": "code",
   "execution_count": 41,
   "metadata": {},
   "outputs": [
    {
     "data": {
      "image/png": "[encoded data removed]",
      "text/plain": [
       "<Figure size 432x288 with 1 Axes>"
      ]
     },
     "metadata": {
      "needs_background": "light"
     },
     "output_type": "display_data"
    }
   ],
   "source": [
    "is_spam_data = [doc.features[0] for doc in train_docs if doc[1] == True]\n",
    "not_spam_data = [doc.features[0] for doc in train_docs if doc[1] == False]\n",
    "bins = range(0,3000,10)\n",
    "plt.hist(is_spam_data, bins=bins, color='red', normed=True, alpha=0.7, label='spam')\n",
    "plt.hist(not_spam_data, bins=bins, color='blue', normed=True, alpha=0.7, label='not_spam')\n",
    "plt.title('NumWordsWithoutTitles')\n",
    "plt.legend()\n",
    "plt.show()"
   ]
  },
  {
   "cell_type": "code",
   "execution_count": 42,
   "metadata": {},
   "outputs": [
    {
     "data": {
      "image/png": "[encoded data removed]",
      "text/plain": [
       "<Figure size 432x288 with 1 Axes>"
      ]
     },
     "metadata": {
      "needs_background": "light"
     },
     "output_type": "display_data"
    }
   ],
   "source": [
    "is_spam_data = [doc.features[1] for doc in train_docs if doc[1] == True]\n",
    "not_spam_data = [doc.features[1] for doc in train_docs if doc[1] == False]\n",
    "bins = 100\n",
    "plt.hist(is_spam_data, bins=bins, color='red', normed=True, alpha=0.7, label='spam')\n",
    "plt.hist(not_spam_data, bins=bins, color='blue', normed=True, alpha=0.7, label='not_spam')\n",
    "plt.title('AvgWordLen')\n",
    "plt.legend()\n",
    "plt.show()"
   ]
  },
  {
   "cell_type": "code",
   "execution_count": 43,
   "metadata": {},
   "outputs": [
    {
     "data": {
      "image/png": "[encoded data removed]",
      "text/plain": [
       "<Figure size 432x288 with 1 Axes>"
      ]
     },
     "metadata": {
      "needs_background": "light"
     },
     "output_type": "display_data"
    }
   ],
   "source": [
    "is_spam_data = [doc.features[2] for doc in train_docs if doc[1] == True]\n",
    "not_spam_data = [doc.features[2] for doc in train_docs if doc[1] == False]\n",
    "bins = range(0, 40, 1)\n",
    "plt.hist(is_spam_data, bins=bins, color='red', normed=True, alpha=0.7, label='spam')\n",
    "plt.hist(not_spam_data, bins=bins, color='blue', normed=True, alpha=0.7, label='not_spam')\n",
    "plt.title('NumWordsTitle')\n",
    "plt.legend()\n",
    "plt.show()"
   ]
  },
  {
   "cell_type": "code",
   "execution_count": 44,
   "metadata": {
    "scrolled": true
   },
   "outputs": [
    {
     "data": {
      "image/png": "[encoded data removed]",
      "text/plain": [
       "<Figure size 432x288 with 1 Axes>"
      ]
     },
     "metadata": {
      "needs_background": "light"
     },
     "output_type": "display_data"
    }
   ],
   "source": [
    "is_spam_data = [doc.features[3] for doc in train_docs if doc[1] == True]\n",
    "not_spam_data = [doc.features[3] for doc in train_docs if doc[1] == False]\n",
    "bins = range(0, 300, 2)\n",
    "# bins = 100\n",
    "plt.hist(is_spam_data, bins=bins, color='red', normed=True, alpha=0.7, label='spam')\n",
    "plt.hist(not_spam_data, bins=bins, color='blue', normed=True, alpha=0.7, label='not_spam')\n",
    "plt.title('NumWordsAnchor')\n",
    "plt.legend()\n",
    "plt.show()"
   ]
  },
  {
   "cell_type": "code",
   "execution_count": 45,
   "metadata": {
    "scrolled": false
   },
   "outputs": [
    {
     "data": {
      "image/png": "[encoded data removed]",
      "text/plain": [
       "<Figure size 432x288 with 1 Axes>"
      ]
     },
     "metadata": {
      "needs_background": "light"
     },
     "output_type": "display_data"
    }
   ],
   "source": [
    "is_spam_data = [doc.features[4] for doc in train_docs if doc[1] == True]\n",
    "not_spam_data = [doc.features[4] for doc in train_docs if doc[1] == False]\n",
    "# bins = range(0, 20, 1)\n",
    "bins = 100\n",
    "plt.hist(is_spam_data, bins=bins, color='red', normed=True, alpha=0.7, label='spam')\n",
    "plt.hist(not_spam_data, bins=bins, color='blue', normed=True, alpha=0.7, label='not_spam')\n",
    "plt.title('CompressionWords')\n",
    "plt.legend()\n",
    "plt.show()"
   ]
  },
  {
   "cell_type": "code",
   "execution_count": 46,
   "metadata": {
    "scrolled": false
   },
   "outputs": [
    {
     "data": {
      "image/png": "[encoded data removed]",
      "text/plain": [
       "<Figure size 432x288 with 1 Axes>"
      ]
     },
     "metadata": {
      "needs_background": "light"
     },
     "output_type": "display_data"
    }
   ],
   "source": [
    "is_spam_data = [doc.features[6] for doc in train_docs if doc[1] == True]\n",
    "not_spam_data = [doc.features[6] for doc in train_docs if doc[1] == False]\n",
    "bins = range(0, 200, 1)\n",
    "# bins = 100\n",
    "plt.hist(is_spam_data, bins=bins, color='red', normed=True, alpha=0.7, label='spam')\n",
    "plt.hist(not_spam_data, bins=bins, color='blue', normed=True, alpha=0.7, label='not_spam')\n",
    "plt.title('tf_html_feat')\n",
    "plt.legend()\n",
    "plt.show()"
   ]
  },
  {
   "cell_type": "code",
   "execution_count": 47,
   "metadata": {
    "scrolled": false
   },
   "outputs": [
    {
     "data": {
      "image/png": "[encoded data removed]",
      "text/plain": [
       "<Figure size 432x288 with 1 Axes>"
      ]
     },
     "metadata": {
      "needs_background": "light"
     },
     "output_type": "display_data"
    }
   ],
   "source": [
    "is_spam_data = [doc.features[7] for doc in train_docs if doc[1] == True]\n",
    "not_spam_data = [doc.features[7] for doc in train_docs if doc[1] == False]\n",
    "bins = range(0, 100, 1)\n",
    "# bins = 100\n",
    "plt.hist(is_spam_data, bins=bins, color='red', normed=True, alpha=0.7, label='spam')\n",
    "plt.hist(not_spam_data, bins=bins, color='blue', normed=True, alpha=0.7, label='not_spam')\n",
    "plt.title('tf_feat_m')\n",
    "plt.legend()\n",
    "plt.show()"
   ]
  },
  {
   "cell_type": "code",
   "execution_count": 48,
   "metadata": {
    "scrolled": false
   },
   "outputs": [
    {
     "data": {
      "image/png": "[encoded data removed]",
      "text/plain": [
       "<Figure size 432x288 with 1 Axes>"
      ]
     },
     "metadata": {
      "needs_background": "light"
     },
     "output_type": "display_data"
    }
   ],
   "source": [
    "is_spam_data = [doc.features[8] for doc in train_docs if doc[1] == True]\n",
    "not_spam_data = [doc.features[8] for doc in train_docs if doc[1] == False]\n",
    "# bins = range(0, 60, 1)\n",
    "bins = 100\n",
    "plt.hist(is_spam_data, bins=bins, color='red', normed=True, alpha=0.7, label='spam')\n",
    "plt.hist(not_spam_data, bins=bins, color='blue', normed=True, alpha=0.7, label='not_spam')\n",
    "plt.title('tf_diff_new')\n",
    "plt.legend()\n",
    "plt.show()"
   ]
  },
  {
   "cell_type": "markdown",
   "metadata": {},
   "source": [
    "** Классификатор: **\n",
    "Нужно реализовать"
   ]
  },
  {
   "cell_type": "code",
   "execution_count": 135,
   "metadata": {},
   "outputs": [],
   "source": [
    "class Classifier:\n",
    "    \n",
    "    def __init__(self):\n",
    "        self._freq = defaultdict(lambda:0)\n",
    "        self._idf = defaultdict(lambda:0)\n",
    "\n",
    "    def predict(self, doc):\n",
    "        feats = doc.features[9]\n",
    "        words_num = doc.features[5]\n",
    "        tf = [f / words_num for f in feats.values()]\n",
    "        if len(tf):\n",
    "            idf = [log(self._n / (self._idf.get(feat, 0) + 1)) for feat in feats]\n",
    "            tf_idf = sum(tf_i * idf[i] for i, tf_i in enumerate(tf)) / len(tf)\n",
    "            idf_m = sum(idf) / len(tf)\n",
    "        else:\n",
    "            idf_m = 0\n",
    "            tf_idf = 0\n",
    "        return tf_idf, idf_m\n",
    "    \n",
    "    def predict_nb(self, doc):\n",
    "        feats = doc.features[9]\n",
    "        count_w = [w for w in feats.values()]\n",
    "        x0 = [(self._freq.get((0, feat), 0) + 1) / (self._count[0] + self._v) for feat in feats]\n",
    "        log_x0 = -log(self._classes[0]) + sum(-log(x_i) * count_w[i] for i, x_i in enumerate(x0))\n",
    "\n",
    "        x1 = [(self._freq.get((1, feat), 0) + 1) / (self._count[1] + self._v) for feat in feats]\n",
    "        log_x1 = -log(self._classes[1]) + sum(-log(x_i) * count_w[i] for i, x_i in enumerate(x1))\n",
    "\n",
    "        prob1 = 1 / (1 + np.exp(log_x1 - log_x0)) #probability of spam\n",
    "        return prob1\n",
    "\n",
    "    def predict_all_nb(self, docs):\n",
    "        res = []\n",
    "        for doc_num, doc in enumerate(docs):\n",
    "            trace(doc_num)\n",
    "            prediction = self.predict_nb(doc)            \n",
    "            res.append( (doc.doc_id, doc.is_spam, doc.url, prediction) )\n",
    "        return res\n",
    "    \n",
    "    def predict_all(self, docs):\n",
    "        res = []\n",
    "        for doc_num, doc in enumerate(docs):\n",
    "            trace(doc_num)\n",
    "            prediction = self.predict(doc)            \n",
    "            res.append( (doc.doc_id, doc.is_spam, doc.url, prediction) )\n",
    "        return res\n",
    "    \n",
    "    \n",
    "    def fit_tf(self, t_docs):\n",
    "        self._n += len(t_docs)\n",
    "            \n",
    "        for doc_num, doc in enumerate(t_docs): \n",
    "            freq_ = doc.features[9]\n",
    "            for key, val in freq_.items():\n",
    "                self._idf[key] += 1\n",
    "\n",
    "            trace(doc_num)\n",
    "#         self._idf_vec = [log(self._n / val) for val in self._idf.values()]\n",
    "        trace(doc_num, 1)\n",
    "    \n",
    "    def train(self, docs):\n",
    "        train_classes = [len([1 for doc in docs if doc[1] == False]),\n",
    "                         len([1 for doc in docs if doc[1] == True])]\n",
    "        self._classes = [0, 0]\n",
    "        self._count = [0, 0]\n",
    "        self._n = len(docs)\n",
    "        \n",
    "        for c in range(2):\n",
    "            self._classes[c] = train_classes[c]\n",
    "            self._classes[c] /= self._n\n",
    "            \n",
    "        for doc_num, doc in enumerate(docs): \n",
    "            mark = doc[1]\n",
    "            freq_ = doc.features[9]\n",
    "            for key, val in freq_.items():\n",
    "                self._freq[mark, key] += val\n",
    "                self._idf[key] += 1\n",
    "\n",
    "            trace(doc_num)\n",
    "\n",
    "        self._v = len(self._freq)\n",
    "        for mark, feat in self._freq:\n",
    "            self._count[mark] += 1\n",
    "\n",
    "        trace(doc_num, 1)"
   ]
  },
  {
   "cell_type": "code",
   "execution_count": 136,
   "metadata": {},
   "outputs": [],
   "source": [
    "# my_test_d = {'aa': 1, 'b':7, 'z': 5, 'kk':77}\n",
    "# my_test_k = [k for k in my_test_d.keys()]\n",
    "# my_test_v = [v for v in my_test_d.values()]\n",
    "\n",
    "# print my_test_k, my_test_v"
   ]
  },
  {
   "cell_type": "code",
   "execution_count": 137,
   "metadata": {
    "scrolled": true
   },
   "outputs": [
    {
     "name": "stderr",
     "output_type": "stream",
     "text": [
      "14:23:59 INFO:Complete items 00000\n",
      "14:24:00 INFO:Complete items 01000\n",
      "14:24:02 INFO:Complete items 02000\n",
      "14:24:03 INFO:Complete items 03000\n",
      "14:24:05 INFO:Complete items 04000\n",
      "14:24:06 INFO:Complete items 05000\n",
      "14:24:08 INFO:Complete items 06000\n",
      "14:24:10 INFO:Complete items 07000\n",
      "14:24:10 INFO:Complete items 07043\n"
     ]
    }
   ],
   "source": [
    "classifier = Classifier()\n",
    "classifier.train(train_docs)"
   ]
  },
  {
   "cell_type": "code",
   "execution_count": 138,
   "metadata": {},
   "outputs": [
    {
     "name": "stdout",
     "output_type": "stream",
     "text": [
      "48\n"
     ]
    }
   ],
   "source": [
    "print classifier._freq[0, u'smile']"
   ]
  },
  {
   "cell_type": "code",
   "execution_count": 139,
   "metadata": {},
   "outputs": [
    {
     "data": {
      "text/plain": [
       "(0.825453375082259, 6.7255061688001145)"
      ]
     },
     "execution_count": 139,
     "metadata": {},
     "output_type": "execute_result"
    }
   ],
   "source": [
    "# Посмотреть, что предсказывается для тестового html\n",
    "classifier.predict(DocItem(0, 0, test_url , test_features))"
   ]
  },
  {
   "cell_type": "code",
   "execution_count": 140,
   "metadata": {},
   "outputs": [
    {
     "data": {
      "text/plain": [
       "0.010069247005488153"
      ]
     },
     "execution_count": 140,
     "metadata": {},
     "output_type": "execute_result"
    }
   ],
   "source": [
    "classifier.predict_nb(DocItem(0, 0, test_url , test_features))"
   ]
  },
  {
   "cell_type": "markdown",
   "metadata": {},
   "source": [
    "** Рисуем графики **"
   ]
  },
  {
   "cell_type": "code",
   "execution_count": 423,
   "metadata": {
    "scrolled": true
   },
   "outputs": [],
   "source": [
    "plot_results(train_docs, min_threshold=0, max_threshold=1, step=0.1, trace=1)"
   ]
  },
  {
   "cell_type": "code",
   "execution_count": 58,
   "metadata": {},
   "outputs": [
    {
     "name": "stderr",
     "output_type": "stream",
     "text": [
      "11:38:24 INFO:Complete items 00000\n",
      "11:38:27 INFO:Complete items 01000\n",
      "11:38:29 INFO:Complete items 02000\n",
      "11:38:31 INFO:Complete items 03000\n",
      "11:38:34 INFO:Complete items 04000\n",
      "11:38:37 INFO:Complete items 05000\n",
      "11:38:39 INFO:Complete items 06000\n",
      "11:38:42 INFO:Complete items 07000\n"
     ]
    }
   ],
   "source": [
    "with open('nb_train_20191025.csv' , 'wb') as fout:\n",
    "    writer = csv.writer(fout)\n",
    "    writer.writerow(['Id','Prediction'])\n",
    "    for item in classifier.predict_all_nb(train_docs):\n",
    "        prediction = item[3]\n",
    "        writer.writerow([item[0], prediction])"
   ]
  },
  {
   "cell_type": "code",
   "execution_count": 59,
   "metadata": {},
   "outputs": [
    {
     "name": "stdout",
     "output_type": "stream",
     "text": [
      "(9222854048224216637, False, u'http://www.consultant.ru/law/hotdocs/11833.html', 1.324413186792272e-135)\n"
     ]
    }
   ],
   "source": [
    "# print item"
   ]
  },
  {
   "cell_type": "code",
   "execution_count": 60,
   "metadata": {},
   "outputs": [],
   "source": [
    "with open('nb_train_20191025.csv', 'r') as input_file:\n",
    "    headers = input_file.readline()\n",
    "    train_nb = []\n",
    "\n",
    "    for i, line in enumerate(input_file):\n",
    "        parts = line.strip().split(',')\n",
    "        url_id = int(parts[0])\n",
    "        prediction = float(parts[1])\n",
    "        train_nb.append([url_id, prediction])"
   ]
  },
  {
   "cell_type": "code",
   "execution_count": 61,
   "metadata": {},
   "outputs": [
    {
     "name": "stdout",
     "output_type": "stream",
     "text": [
      "[9222854048224216637, 1.324413186792272e-135]\n"
     ]
    }
   ],
   "source": [
    "# print train_nb[-1]"
   ]
  },
  {
   "cell_type": "code",
   "execution_count": 62,
   "metadata": {},
   "outputs": [
    {
     "name": "stderr",
     "output_type": "stream",
     "text": [
      "11:42:06 INFO:Complete items 00000 in worker_id 0\n",
      "11:42:06 INFO:Complete items 00000 in worker_id 1\n",
      "11:42:06 INFO:Complete items 00000 in worker_id 2\n",
      "11:42:06 INFO:Complete items 00000 in worker_id 3\n",
      "11:48:13 INFO:Complete items 01000 in worker_id 1\n",
      "11:48:41 INFO:Complete items 01000 in worker_id 2\n",
      "11:52:57 INFO:Complete items 02000 in worker_id 2\n",
      "11:53:20 INFO:Complete items 02000 in worker_id 1\n",
      "11:53:59 INFO:Complete items 01000 in worker_id 0\n",
      "11:54:12 INFO:Complete items 01000 in worker_id 3\n",
      "12:00:20 INFO:Complete items 03000 in worker_id 2\n",
      "12:00:20 INFO:Complete items 03000 in worker_id 1\n",
      "12:00:56 INFO:Complete items 02000 in worker_id 0\n",
      "12:02:11 INFO:Complete items 02000 in worker_id 3\n",
      "12:05:21 INFO:Complete items 04000 in worker_id 2\n",
      "12:06:48 INFO:Complete items 04000 in worker_id 1\n",
      "12:07:47 INFO:Complete items 03000 in worker_id 0\n",
      "12:08:58 INFO:Complete items 03000 in worker_id 3\n",
      "12:09:27 INFO:Complete items 05000 in worker_id 2\n",
      "12:13:27 INFO:Complete items 05000 in worker_id 1\n",
      "12:14:19 INFO:Complete items 06000 in worker_id 2\n",
      "12:16:16 INFO:Complete items 04000 in worker_id 3\n",
      "12:16:56 INFO:Complete items 04000 in worker_id 0\n",
      "12:22:39 INFO:Complete items 05000 in worker_id 0\n",
      "12:23:03 INFO:Complete items 06000 in worker_id 1\n",
      "12:23:58 INFO:Complete items 07000 in worker_id 2\n",
      "12:24:27 INFO:Complete items 05000 in worker_id 3\n",
      "12:28:15 INFO:Complete items 07000 in worker_id 1\n",
      "12:28:53 INFO:Complete items 08000 in worker_id 2\n",
      "12:29:56 INFO:Complete items 06000 in worker_id 0\n",
      "12:33:52 INFO:Complete items 06000 in worker_id 3\n",
      "12:33:59 INFO:Complete items 09000 in worker_id 2\n",
      "12:36:10 INFO:Complete items 07000 in worker_id 0\n",
      "12:38:28 INFO:Complete items 08000 in worker_id 1\n",
      "12:39:04 INFO:Complete items 10000 in worker_id 2\n",
      "12:39:18 INFO:Complete items 07000 in worker_id 3\n",
      "12:41:57 INFO:Complete items 08000 in worker_id 0\n",
      "12:43:43 INFO:Complete items 09000 in worker_id 1\n",
      "12:46:49 INFO:Complete items 08000 in worker_id 3\n",
      "12:47:47 INFO:Complete items 11000 in worker_id 2\n",
      "12:52:36 INFO:Complete items 09000 in worker_id 0\n",
      "12:53:02 INFO:Complete items 09000 in worker_id 3\n",
      "12:54:33 INFO:Complete items 10000 in worker_id 1\n",
      "12:55:01 INFO:Complete items 12000 in worker_id 2\n",
      "12:59:12 INFO:Complete items 11000 in worker_id 1\n",
      "13:00:30 INFO:Complete items 10000 in worker_id 0\n",
      "13:02:24 INFO:Complete items 13000 in worker_id 2\n",
      "13:04:36 INFO:Complete items 10000 in worker_id 3\n",
      "13:05:17 INFO:Complete items 12000 in worker_id 1\n",
      "13:05:49 INFO:Complete items 11000 in worker_id 0\n",
      "13:08:53 INFO:Complete items 13000 in worker_id 1\n",
      "13:09:43 INFO:Complete items 11000 in worker_id 3\n",
      "13:10:37 INFO:Complete items 12000 in worker_id 0\n",
      "13:12:15 INFO:Complete items 14000 in worker_id 2\n",
      "13:14:26 INFO:Complete items 12000 in worker_id 3\n",
      "13:15:13 INFO:Complete items 13000 in worker_id 0\n",
      "13:15:13 INFO:Complete items 14000 in worker_id 1\n",
      "13:18:06 INFO:Complete items 15000 in worker_id 2\n",
      "13:19:02 INFO:Complete items 13000 in worker_id 3\n",
      "13:20:18 INFO:Complete items 14000 in worker_id 0\n",
      "13:20:35 INFO:Complete items 15000 in worker_id 1\n",
      "13:24:15 INFO:Complete items 14000 in worker_id 3\n",
      "13:25:55 INFO:Complete items 16000 in worker_id 2\n",
      "13:25:55 INFO:Complete items 16000 in worker_id 1\n",
      "13:26:04 INFO:Complete items 16038 in worker_id 2\n",
      "13:26:05 INFO:Complete items 16038 in worker_id 1\n",
      "13:27:55 INFO:Complete items 15000 in worker_id 3\n",
      "13:28:42 INFO:Complete items 15000 in worker_id 0\n",
      "13:31:24 INFO:Complete items 16000 in worker_id 0\n",
      "13:31:27 INFO:Complete items 16038 in worker_id 0\n",
      "13:32:18 INFO:Complete items 16000 in worker_id 3\n",
      "13:33:04 INFO:Complete items 16038 in worker_id 3\n"
     ]
    },
    {
     "name": "stdout",
     "output_type": "stream",
     "text": [
      "CPU times: user 11.3 s, sys: 4.03 s, total: 15.4 s\n",
      "Wall time: 1h 50min 58s\n"
     ]
    }
   ],
   "source": [
    "%%time\n",
    "\n",
    "TEST_DATA_FILE  = 'kaggle_test_data_tab.csv.gz'\n",
    "# TEST_DATA_FILE  = 'kaggle/kaggle_train_data_tab_300.csv.gz'\n",
    "\n",
    "test_docs = list(load_csv_multiprocess(TEST_DATA_FILE, calc_features))"
   ]
  },
  {
   "cell_type": "code",
   "execution_count": 63,
   "metadata": {},
   "outputs": [],
   "source": [
    "# with open('test_features_new_tf_new_nb_20191025.csv' , 'w') as fout:\n",
    "#     writer = csv.writer(fout, delimiter=str('\\t'))\n",
    "#     writer.writerow(['id', 'target', 'url', 'F_words_num', 'F_avg_word_len',\n",
    "#                      'F_title_words_num', 'F_anchor_words_num',\n",
    "#                      'F_compression_level_w', 'F_all_words_num',\n",
    "#                      'F_tf_html_feat_m', 'F_tf_feat_m', 'F_tf_diff'])\n",
    "#     for item in test_docs:\n",
    "#         writer.writerow([item[0], item[1], item[2],\n",
    "#                          item.features[0], item.features[1],\n",
    "#                          item.features[2], item.features[3],\n",
    "#                          item.features[4], item.features[5],\n",
    "#                          item.features[6], item.features[7],\n",
    "#                          item.features[8]])"
   ]
  },
  {
   "cell_type": "code",
   "execution_count": 82,
   "metadata": {},
   "outputs": [],
   "source": [
    "# print test_docs[:2]"
   ]
  },
  {
   "cell_type": "code",
   "execution_count": 86,
   "metadata": {},
   "outputs": [],
   "source": [
    "# DocItem = namedtuple('DocItem', ['doc_id', 'is_spam', 'url', 'features'])\n",
    "\n",
    "# with open('test_features_new_tf_new_nb_20191025.csv', 'r') as input_file:\n",
    "#     headers = input_file.readline()\n",
    "#     test_docs = []\n",
    "\n",
    "#     for i, line in enumerate(input_file):\n",
    "#         parts = line.strip().split('\\t')\n",
    "#         url_id = int(parts[0])\n",
    "#         if parts[1] == 'True':\n",
    "#             mark = True\n",
    "#         else:\n",
    "#             mark = False\n",
    "#         url = parts[2]\n",
    "#         words_num = int(parts[3])\n",
    "#         avg_word_len = float(parts[4])\n",
    "#         title_words_num = int(parts[5])\n",
    "#         anchor_words_num = int(parts[6])\n",
    "#         compression_level_w = float(parts[7])\n",
    "#         all_words_num = int(parts[8])\n",
    "#         tf_html_feat_m = float(parts[9])\n",
    "#         tf_feat_m = float(parts[10])\n",
    "#         tf_diff = float(parts[11])\n",
    "#         features = [words_num, avg_word_len, title_words_num, anchor_words_num,\n",
    "#                     compression_level_w, all_words_num, tf_html_feat_m, tf_feat_m,\n",
    "#                     tf_diff]\n",
    "         \n",
    "#         test_docs.append(DocItem(url_id, mark, url, features))"
   ]
  },
  {
   "cell_type": "code",
   "execution_count": 87,
   "metadata": {},
   "outputs": [
    {
     "name": "stdout",
     "output_type": "stream",
     "text": [
      "[DocItem(doc_id=-9216634615606576667, is_spam=True, url=u'http://petropavl.kz/whouse/autor/autor4.shtml', features=[408, 6.129901960784314, 13, 128, 0.3169392847241475, 549, 8.392064635174213, 1.90805991538333, 1.5238095238095237]), DocItem(doc_id=-9216796593526314243, is_spam=True, url=u'http://myachina9abbee.front.ru/allinone.html', features=[576, 5.855902777777778, 5, 72, 0.3709150326797386, 653, 11.840727370317483, 3.3634579173837116, 1.945945945945946])]\n"
     ]
    }
   ],
   "source": [
    "# print test_docs[:2]"
   ]
  },
  {
   "cell_type": "code",
   "execution_count": 141,
   "metadata": {},
   "outputs": [
    {
     "name": "stderr",
     "output_type": "stream",
     "text": [
      "14:24:13 INFO:Complete items 00000\n",
      "14:24:14 INFO:Complete items 01000\n",
      "14:24:15 INFO:Complete items 02000\n",
      "14:24:16 INFO:Complete items 03000\n",
      "14:24:17 INFO:Complete items 04000\n",
      "14:24:18 INFO:Complete items 05000\n",
      "14:24:19 INFO:Complete items 06000\n",
      "14:24:21 INFO:Complete items 07000\n",
      "14:24:22 INFO:Complete items 08000\n",
      "14:24:22 INFO:Complete items 09000\n",
      "14:24:24 INFO:Complete items 10000\n",
      "14:24:25 INFO:Complete items 11000\n",
      "14:24:26 INFO:Complete items 12000\n",
      "14:24:27 INFO:Complete items 13000\n",
      "14:24:28 INFO:Complete items 14000\n",
      "14:24:29 INFO:Complete items 15000\n",
      "14:24:30 INFO:Complete items 16000\n",
      "14:24:30 INFO:Complete items 16038\n"
     ]
    }
   ],
   "source": [
    "classifier.fit_tf(test_docs)"
   ]
  },
  {
   "cell_type": "code",
   "execution_count": 66,
   "metadata": {},
   "outputs": [],
   "source": [
    "# with open('freq_vocab_20191025.csv' , 'wb') as fout:\n",
    "#     writer = csv.writer(fout, delimiter=str('\\t'))\n",
    "#     writer.writerow(['Mark','word', 'freq'])\n",
    "#     for item in classifier._freq:\n",
    "#         mark = item[0]\n",
    "#         word = item[1]\n",
    "#         writer.writerow([mark, word.encode('utf-8'), classifier._freq[item]])"
   ]
  },
  {
   "cell_type": "code",
   "execution_count": 67,
   "metadata": {},
   "outputs": [],
   "source": [
    "# with open('idf_vocab_20191025.csv' , 'wb') as fout:\n",
    "#     writer = csv.writer(fout, delimiter=str('\\t'))\n",
    "#     writer.writerow(['word', 'freq'])\n",
    "#     for key, val in classifier._idf.items():\n",
    "#         writer.writerow([key.encode('utf-8'), val])"
   ]
  },
  {
   "cell_type": "code",
   "execution_count": 68,
   "metadata": {},
   "outputs": [],
   "source": [
    "# with open('train_vocab_20191025.csv' , 'wb') as fout:\n",
    "#     writer = csv.writer(fout, delimiter=str('\\t'))\n",
    "#     writer.writerow(['id', 'Mark','word', 'freq'])\n",
    "#     for item in train_docs:\n",
    "#         word_vocab = item.features[9]\n",
    "#         for key, val in word_vocab.items():\n",
    "#             writer.writerow([item[0], item[1], key.encode('utf-8'), val])"
   ]
  },
  {
   "cell_type": "code",
   "execution_count": 69,
   "metadata": {},
   "outputs": [],
   "source": [
    "# with open('test_vocab_20191024.csv' , 'wb') as fout:\n",
    "#     writer = csv.writer(fout, delimiter=str('\\t'))\n",
    "#     writer.writerow(['id', 'Mark','word', 'freq'])\n",
    "#     for item in test_docs:\n",
    "#         word_vocab = item.features[9]\n",
    "#         for key, val in word_vocab.items():\n",
    "#             writer.writerow([item[0], item[1], key.encode('utf-8'), val])"
   ]
  },
  {
   "cell_type": "code",
   "execution_count": 70,
   "metadata": {},
   "outputs": [
    {
     "name": "stderr",
     "output_type": "stream",
     "text": [
      "13:34:52 INFO:Complete items 00000\n",
      "13:34:54 INFO:Complete items 01000\n",
      "13:34:55 INFO:Complete items 02000\n",
      "13:34:57 INFO:Complete items 03000\n",
      "13:34:58 INFO:Complete items 04000\n",
      "13:34:59 INFO:Complete items 05000\n",
      "13:35:01 INFO:Complete items 06000\n",
      "13:35:02 INFO:Complete items 07000\n"
     ]
    }
   ],
   "source": [
    "with open('tf_idf_train_20191025.csv' , 'wb') as fout:\n",
    "    writer = csv.writer(fout)\n",
    "    writer.writerow(['Id','tf_idf_mean', 'idf_mean'])\n",
    "    for item in classifier.predict_all(train_docs):\n",
    "        writer.writerow([item[0], item[3][0], item[3][1]])"
   ]
  },
  {
   "cell_type": "code",
   "execution_count": 71,
   "metadata": {},
   "outputs": [],
   "source": [
    "# print item"
   ]
  },
  {
   "cell_type": "code",
   "execution_count": 72,
   "metadata": {},
   "outputs": [],
   "source": [
    "with open('tf_idf_train_20191025.csv', 'r') as input_file:\n",
    "    headers = input_file.readline()\n",
    "    train_tf_idf = []\n",
    "\n",
    "    for i, line in enumerate(input_file):\n",
    "        parts = line.strip().split(',')\n",
    "        url_id = int(parts[0])\n",
    "        tf_idf = float(parts[1])\n",
    "        idf = float(parts[2])\n",
    "        train_tf_idf.append([url_id, tf_idf, idf])"
   ]
  },
  {
   "cell_type": "code",
   "execution_count": 73,
   "metadata": {},
   "outputs": [
    {
     "name": "stdout",
     "output_type": "stream",
     "text": [
      "[9222854048224216637, 0.012762169066197327, 2.952810851085982]\n"
     ]
    }
   ],
   "source": [
    "print train_tf_idf[-1]"
   ]
  },
  {
   "cell_type": "code",
   "execution_count": 74,
   "metadata": {},
   "outputs": [
    {
     "name": "stderr",
     "output_type": "stream",
     "text": [
      "13:35:02 INFO:Complete items 00000\n",
      "13:35:04 INFO:Complete items 01000\n",
      "13:35:05 INFO:Complete items 02000\n",
      "13:35:07 INFO:Complete items 03000\n",
      "13:35:08 INFO:Complete items 04000\n",
      "13:35:10 INFO:Complete items 05000\n",
      "13:35:11 INFO:Complete items 06000\n",
      "13:35:12 INFO:Complete items 07000\n",
      "13:35:14 INFO:Complete items 08000\n",
      "13:35:15 INFO:Complete items 09000\n",
      "13:35:17 INFO:Complete items 10000\n",
      "13:35:19 INFO:Complete items 11000\n",
      "13:35:20 INFO:Complete items 12000\n",
      "13:35:22 INFO:Complete items 13000\n",
      "13:35:23 INFO:Complete items 14000\n",
      "13:35:25 INFO:Complete items 15000\n",
      "13:35:26 INFO:Complete items 16000\n"
     ]
    }
   ],
   "source": [
    "with open('tf_idf_test_20191025.csv' , 'wb') as fout:\n",
    "    writer = csv.writer(fout)\n",
    "    writer.writerow(['Id','tf_idf_mean', 'idf_mean'])\n",
    "    for item in classifier.predict_all(test_docs):\n",
    "        writer.writerow([item[0], item[3][0], item[3][1]])"
   ]
  },
  {
   "cell_type": "code",
   "execution_count": 75,
   "metadata": {},
   "outputs": [],
   "source": [
    "# print item"
   ]
  },
  {
   "cell_type": "code",
   "execution_count": 76,
   "metadata": {},
   "outputs": [],
   "source": [
    "with open('tf_idf_test_20191025.csv', 'r') as input_file:\n",
    "    headers = input_file.readline()\n",
    "    test_tf_idf = []\n",
    "\n",
    "    for i, line in enumerate(input_file):\n",
    "        parts = line.strip().split(',')\n",
    "        url_id = int(parts[0])\n",
    "        tf_idf = float(parts[1])\n",
    "        idf = float(parts[2])\n",
    "        test_tf_idf.append([url_id, tf_idf, idf])"
   ]
  },
  {
   "cell_type": "code",
   "execution_count": 77,
   "metadata": {},
   "outputs": [
    {
     "name": "stdout",
     "output_type": "stream",
     "text": [
      "[9220928100490675079, 0.005160573171626474, 3.2474077185972914]\n"
     ]
    }
   ],
   "source": [
    "print test_tf_idf[-1]"
   ]
  },
  {
   "cell_type": "code",
   "execution_count": 78,
   "metadata": {},
   "outputs": [
    {
     "name": "stderr",
     "output_type": "stream",
     "text": [
      "13:35:27 INFO:Complete items 00000\n",
      "13:35:30 INFO:Complete items 01000\n",
      "13:35:34 INFO:Complete items 02000\n",
      "13:35:37 INFO:Complete items 03000\n",
      "13:35:40 INFO:Complete items 04000\n",
      "13:35:42 INFO:Complete items 05000\n",
      "13:35:45 INFO:Complete items 06000\n",
      "13:35:48 INFO:Complete items 07000\n",
      "13:35:51 INFO:Complete items 08000\n",
      "13:35:54 INFO:Complete items 09000\n",
      "13:35:57 INFO:Complete items 10000\n",
      "13:36:01 INFO:Complete items 11000\n",
      "13:36:03 INFO:Complete items 12000\n",
      "13:36:06 INFO:Complete items 13000\n",
      "13:36:09 INFO:Complete items 14000\n",
      "13:36:12 INFO:Complete items 15000\n",
      "13:36:14 INFO:Complete items 16000\n"
     ]
    }
   ],
   "source": [
    "with open('nb_test_20191025.csv' , 'wb') as fout:\n",
    "    writer = csv.writer(fout)\n",
    "    writer.writerow(['Id','Prediction'])\n",
    "    for item in classifier.predict_all_nb(test_docs):\n",
    "        prediction = item[3]\n",
    "        writer.writerow([item[0], prediction])"
   ]
  },
  {
   "cell_type": "code",
   "execution_count": 79,
   "metadata": {},
   "outputs": [],
   "source": [
    "# print item"
   ]
  },
  {
   "cell_type": "code",
   "execution_count": 80,
   "metadata": {},
   "outputs": [],
   "source": [
    "with open('nb_test_20191025.csv', 'r') as input_file:\n",
    "    headers = input_file.readline()\n",
    "    test_nb = []\n",
    "\n",
    "    for i, line in enumerate(input_file):\n",
    "        parts = line.strip().split(',')\n",
    "        url_id = int(parts[0])\n",
    "        prediction = float(parts[1])\n",
    "        test_nb.append([url_id, prediction])"
   ]
  },
  {
   "cell_type": "code",
   "execution_count": 81,
   "metadata": {},
   "outputs": [
    {
     "name": "stdout",
     "output_type": "stream",
     "text": [
      "[9220928100490675079, 1.5723538679062534e-93]\n"
     ]
    }
   ],
   "source": [
    "print test_nb[-1]"
   ]
  },
  {
   "cell_type": "code",
   "execution_count": 89,
   "metadata": {},
   "outputs": [],
   "source": [
    "from scipy.stats import randint as randint\n",
    "from sklearn.ensemble import RandomForestClassifier\n",
    "from sklearn.metrics import accuracy_score, f1_score\n",
    "from sklearn.model_selection import KFold, train_test_split, GridSearchCV, RandomizedSearchCV\n",
    "from sklearn.tree import DecisionTreeClassifier"
   ]
  },
  {
   "cell_type": "code",
   "execution_count": null,
   "metadata": {},
   "outputs": [],
   "source": [
    "# [0 - words_num, 1 - avg_word_len, 2 - title_words_num,\n",
    "#  3 - anchor_words_num, 4 - compression_level_w,\n",
    "#  5 - all_words_num, 6 - tf_html_feat_m, 7 - tf_feat_m,\n",
    "#  8 - tf_diff, 9 - nb, 10 - tf_idf, 11 - idf]"
   ]
  },
  {
   "cell_type": "code",
   "execution_count": 110,
   "metadata": {},
   "outputs": [
    {
     "name": "stdout",
     "output_type": "stream",
     "text": [
      "[[4.93000000e+002 7.57606491e+000 1.00000000e+000 1.50000000e+002\n",
      "  2.55909455e-001 6.44000000e+002 5.71301892e+000 2.15003291e+000\n",
      "  1.15384615e+000 5.62862838e-199 8.99931198e-003 4.52838960e+000]\n",
      " [7.16000000e+002 5.90083799e+000 3.00000000e+000 1.05000000e+002\n",
      "  2.34472620e-001 8.24000000e+002 8.05623554e+000 2.52000000e+000\n",
      "  1.40000000e+000 6.51876975e-206 5.30236544e-003 3.12813897e+000]\n",
      " [6.63000000e+002 6.50527903e+000 5.00000000e+000 3.40000000e+002\n",
      "  1.97166311e-001 1.00800000e+003 1.67311360e+001 5.20068259e+000\n",
      "  1.28787879e+000 0.00000000e+000 6.15756023e-003 3.72165852e+000]]\n",
      "[0 0 0]\n"
     ]
    }
   ],
   "source": [
    "y_train = []\n",
    "X_train = []\n",
    "\n",
    "for i, item in enumerate(train_docs):\n",
    "    feat = [f for f in item.features[:9]]\n",
    "    if feat[8] != 0:\n",
    "        feat[8] = 1 / feat[8]\n",
    "    feat.append(train_nb[i][1])\n",
    "    feat.append(train_tf_idf[i][1])\n",
    "    feat.append(train_tf_idf[i][2])\n",
    "    X_train.append(feat)\n",
    "    y_train.append(int(item.is_spam))\n",
    "\n",
    "X_train = np.array(X_train)\n",
    "y_train = np.array(y_train)\n",
    "    \n",
    "print X_train[:3]\n",
    "print y_train[:3]"
   ]
  },
  {
   "cell_type": "code",
   "execution_count": 111,
   "metadata": {},
   "outputs": [
    {
     "name": "stdout",
     "output_type": "stream",
     "text": [
      "[[4.01000000e+002 6.17206983e+000 1.30000000e+001 1.24000000e+002\n",
      "  3.16939285e-001 5.38000000e+002 8.81434352e+000 3.31133089e+000\n",
      "  1.53086420e+000 2.37821745e-158 6.83490085e-003 2.78878758e+000]\n",
      " [5.52000000e+002 6.00362319e+000 5.00000000e+000 6.00000000e+001\n",
      "  3.70915033e-001 6.17000000e+002 1.18845379e+001 5.57831938e+000\n",
      "  1.76470588e+000 1.09048905e-006 4.84479215e-003 2.46432437e+000]\n",
      " [5.54000000e+002 6.26353791e+000 8.00000000e+000 6.90000000e+001\n",
      "  3.37165418e-001 6.31000000e+002 2.02742898e+001 1.23652583e+001\n",
      "  1.40816327e+000 3.32273142e-038 6.12460175e-003 3.22656369e+000]]\n",
      "[]\n"
     ]
    }
   ],
   "source": [
    "y_test = []\n",
    "X_test = []\n",
    "\n",
    "for i, item in enumerate(test_docs):\n",
    "    feat = [f for f in item.features[:9]]\n",
    "    if feat[8] != 0:\n",
    "        feat[8] = 1 / feat[8]\n",
    "    feat.append(test_nb[i][1])\n",
    "    feat.append(test_tf_idf[i][1])\n",
    "    feat.append(test_tf_idf[i][2])\n",
    "    X_test.append(feat)\n",
    "\n",
    "X_test = np.array(X_test)\n",
    "y_test = np.array(y_test)\n",
    "    \n",
    "print X_test[:3]\n",
    "print y_test[:3]"
   ]
  },
  {
   "cell_type": "code",
   "execution_count": null,
   "metadata": {},
   "outputs": [],
   "source": []
  },
  {
   "cell_type": "code",
   "execution_count": 104,
   "metadata": {},
   "outputs": [
    {
     "name": "stdout",
     "output_type": "stream",
     "text": [
      "{u'min_samples_split': 2, u'max_depth': 20}\n",
      "0.9644401317457912\n"
     ]
    }
   ],
   "source": [
    "param_grid = {\n",
    "    'max_depth': randint(15, 30),\n",
    "    #     'criterion': ['gini', 'entropy']\n",
    "#     'max_features': [1, 2, 3, 4, 5, 6]\n",
    "    'min_samples_split': randint(2, 5)}\n",
    "\n",
    "\n",
    "cv = KFold(n_splits=5, random_state=123, shuffle=True)\n",
    "\n",
    "model_RF = RandomForestClassifier(random_state=123,\n",
    "                                  n_estimators=100,\n",
    "                                  n_jobs=-1)\n",
    "\n",
    "\n",
    "random_search = RandomizedSearchCV(model_RF, param_distributions=param_grid,\n",
    "                                   n_iter=100, n_jobs=-1, cv=cv,\n",
    "                                   scoring='f1', random_state=123)\n",
    "\n",
    "\n",
    "\n",
    "random_search.fit(X_train, y_train)\n",
    "\n",
    "print(random_search.best_params_)\n",
    "print(random_search.best_score_)"
   ]
  },
  {
   "cell_type": "code",
   "execution_count": 105,
   "metadata": {},
   "outputs": [
    {
     "data": {
      "text/plain": [
       "0.9998539861743314"
      ]
     },
     "execution_count": 105,
     "metadata": {},
     "output_type": "execute_result"
    }
   ],
   "source": [
    "f1_score(y_pred=random_search.predict(X_train), y_true=y_train, average='macro')"
   ]
  },
  {
   "cell_type": "code",
   "execution_count": 106,
   "metadata": {},
   "outputs": [],
   "source": [
    "# {u'min_samples_split': 3, u'n_estimators': 920, u'max_depth': 22}\n",
    "# 0.965481952685975\n",
    "# {u'min_samples_split': 2, u'n_estimators': 500, u'max_depth': 17}\n",
    "# 0.9651327950914868\n",
    "# {u'min_samples_split': 2, u'max_depth': 21}\n",
    "# 0.9652913441901149\n",
    "# {u'min_samples_split': 3, u'max_depth': 15}\n",
    "# 0.9649806018299371\n",
    "# {u'min_samples_split': 2, u'max_depth': 20}\n",
    "# 0.9644401317457912"
   ]
  },
  {
   "cell_type": "code",
   "execution_count": 107,
   "metadata": {},
   "outputs": [],
   "source": [
    "best_model = random_search.best_estimator_\n",
    "y_test = best_model.predict(X_test)"
   ]
  },
  {
   "cell_type": "code",
   "execution_count": 108,
   "metadata": {},
   "outputs": [
    {
     "data": {
      "text/plain": [
       "array([0.05801316, 0.06357621, 0.01992376, 0.05150209, 0.13519805,\n",
       "       0.03416491, 0.08131722, 0.04707724, 0.02888962, 0.39301967,\n",
       "       0.05388154, 0.03343654])"
      ]
     },
     "execution_count": 108,
     "metadata": {},
     "output_type": "execute_result"
    }
   ],
   "source": [
    "best_model.feature_importances_"
   ]
  },
  {
   "cell_type": "code",
   "execution_count": null,
   "metadata": {},
   "outputs": [],
   "source": [
    "# [0 - words_num, 1 - avg_word_len, 2 - title_words_num,\n",
    "#  3 - anchor_words_num, 4 - compression_level_w,\n",
    "#  5 - all_words_num, 6 - tf_html_feat_m, 7 - tf_feat_m,\n",
    "#  8 - tf_diff, 9 - nb, 10 - tf_idf, 11 - idf]"
   ]
  },
  {
   "cell_type": "code",
   "execution_count": 109,
   "metadata": {},
   "outputs": [],
   "source": [
    "with open('choose_sub_file_name.csv' , 'wb') as fout:\n",
    "    writer = csv.writer(fout)\n",
    "    writer.writerow(['Id','Prediction'])\n",
    "    for i, y in enumerate(y_test):\n",
    "        doc_id = test_docs[i][0]\n",
    "        prediction = y\n",
    "        writer.writerow([doc_id, prediction])"
   ]
  },
  {
   "cell_type": "code",
   "execution_count": 159,
   "metadata": {},
   "outputs": [],
   "source": []
  },
  {
   "cell_type": "code",
   "execution_count": null,
   "metadata": {},
   "outputs": [],
   "source": []
  }
 ],
 "metadata": {
  "anaconda-cloud": {},
  "kernelspec": {
   "display_name": "Python 3",
   "language": "python",
   "name": "python3"
  },
  "language_info": {
   "codemirror_mode": {
    "name": "ipython",
    "version": 3
   },
   "file_extension": ".py",
   "mimetype": "text/x-python",
   "name": "python",
   "nbconvert_exporter": "python",
   "pygments_lexer": "ipython3",
   "version": "3.7.1"
  }
 },
 "nbformat": 4,
 "nbformat_minor": 1
}
